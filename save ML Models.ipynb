{
 "cells": [
  {
   "cell_type": "markdown",
   "id": "1f5c219c-6b85-40b4-bc94-0fb35554b3b5",
   "metadata": {},
   "source": [
    "Save ML Models"
   ]
  },
  {
   "cell_type": "code",
   "execution_count": null,
   "id": "0bcc4195-c994-43a6-93ad-dbbfe92b440f",
   "metadata": {},
   "outputs": [],
   "source": [
    "import pickle as pk\n",
    "\n",
    "with open(\".ipynb name\", \"wb\") as file:\n",
    "    pk.dump(Odject_name,file)"
   ]
  },
  {
   "cell_type": "markdown",
   "id": "a066b379-663d-4f39-b0cb-3f591951a7ec",
   "metadata": {},
   "source": [
    "Use Saved ML Models"
   ]
  },
  {
   "cell_type": "code",
   "execution_count": null,
   "id": "46562139-7d5c-4829-a3cb-4410c9048e0f",
   "metadata": {},
   "outputs": [],
   "source": [
    "import pickle as pk\n",
    "\n",
    "with open(\".ipynb name\", \"rb\") as file:\n",
    "    model = pk.load(file)\n",
    "model.predict(x)  "
   ]
  },
  {
   "cell_type": "code",
   "execution_count": null,
   "id": "776492fd-a7f7-4925-93c3-08692b3ca26d",
   "metadata": {},
   "outputs": [],
   "source": []
  }
 ],
 "metadata": {
  "kernelspec": {
   "display_name": "Python 3 (ipykernel)",
   "language": "python",
   "name": "python3"
  },
  "language_info": {
   "codemirror_mode": {
    "name": "ipython",
    "version": 3
   },
   "file_extension": ".py",
   "mimetype": "text/x-python",
   "name": "python",
   "nbconvert_exporter": "python",
   "pygments_lexer": "ipython3",
   "version": "3.12.7"
  }
 },
 "nbformat": 4,
 "nbformat_minor": 5
}
