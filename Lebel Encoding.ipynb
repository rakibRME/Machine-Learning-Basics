{
 "cells": [
  {
   "cell_type": "code",
   "execution_count": 1,
   "id": "e1c23028",
   "metadata": {},
   "outputs": [],
   "source": [
    "instances = [\"ClassA\", \"ClassB\", \"ClassC\",\"ClassD\", \"ClassA\",\"ClassB\", \"ClassC\",\"ClassD\", \"ClassA\",\"ClassB\"]"
   ]
  },
  {
   "cell_type": "code",
   "execution_count": 6,
   "id": "59e60d85",
   "metadata": {},
   "outputs": [],
   "source": [
    "from sklearn.preprocessing import LabelEncoder"
   ]
  },
  {
   "cell_type": "code",
   "execution_count": 14,
   "id": "3a6f1f64",
   "metadata": {},
   "outputs": [
    {
     "name": "stdout",
     "output_type": "stream",
     "text": [
      "Encoded labels:\n"
     ]
    },
    {
     "data": {
      "text/plain": [
       "(None, array([0, 1, 2, 3, 0, 1, 2, 3, 0, 1], dtype=int64))"
      ]
     },
     "execution_count": 14,
     "metadata": {},
     "output_type": "execute_result"
    }
   ],
   "source": [
    "label_encoder = LabelEncoder()\n",
    "encoded_lebels = label_encoder.fit_transform(instances)\n",
    "print(\"Encoded labels:\"), encoded_lebels"
   ]
  },
  {
   "cell_type": "code",
   "execution_count": 16,
   "id": "d1b95406",
   "metadata": {},
   "outputs": [
    {
     "name": "stdout",
     "output_type": "stream",
     "text": [
      "Original labels ['ClassA' 'ClassB' 'ClassC' 'ClassD' 'ClassA' 'ClassB' 'ClassC' 'ClassD'\n",
      " 'ClassA' 'ClassB']\n"
     ]
    }
   ],
   "source": [
    "original_labels = label_encoder.inverse_transform(encoded_lebels)\n",
    "print(\"Original labels\", original_labels)"
   ]
  },
  {
   "cell_type": "code",
   "execution_count": null,
   "id": "efc28d54",
   "metadata": {},
   "outputs": [],
   "source": []
  }
 ],
 "metadata": {
  "kernelspec": {
   "display_name": "Python 3 (ipykernel)",
   "language": "python",
   "name": "python3"
  },
  "language_info": {
   "codemirror_mode": {
    "name": "ipython",
    "version": 3
   },
   "file_extension": ".py",
   "mimetype": "text/x-python",
   "name": "python",
   "nbconvert_exporter": "python",
   "pygments_lexer": "ipython3",
   "version": "3.11.5"
  }
 },
 "nbformat": 4,
 "nbformat_minor": 5
}
